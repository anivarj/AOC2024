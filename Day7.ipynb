{
 "cells": [
  {
   "cell_type": "code",
   "execution_count": null,
   "metadata": {},
   "outputs": [
    {
     "name": "stdout",
     "output_type": "stream",
     "text": [
      "['418', '9', '4', '4', '3', '1', '9', '7', '5', '12', '9']\n"
     ]
    }
   ],
   "source": [
    "from itertools import *\n",
    "\n",
    "\n",
    "# get a list of numbers and generate all possible combinations of operators that could go between them\n",
    "def make_operators(number_list):\n",
    "    # get the number of combinations of operators based on the length of the number list \n",
    "    number_length = len(number_list) -1 \n",
    "    \n",
    "    # generate all combinations of operators\n",
    "    operators = [\"\".join(combination) for combination in product(['*', '+'], repeat = number_length)]\n",
    "\n",
    "my_dict = {}\n",
    "with open('7-1.txt', 'r') as file:\n",
    "    for line in file:\n",
    "        # generate a dictionary of all the values and their corresponding numbers\n",
    "        value, numbers = line.split(':')\n",
    "        my_dict[value.strip()] = numbers.strip().split()\n",
    "\n",
    "\n",
    "# for later, create interleaved list of operators and numbers\n",
    "#list(itertools.chain(*zip(a, b)))\n"
   ]
  }
 ],
 "metadata": {
  "kernelspec": {
   "display_name": "AOC2024",
   "language": "python",
   "name": "python3"
  },
  "language_info": {
   "codemirror_mode": {
    "name": "ipython",
    "version": 3
   },
   "file_extension": ".py",
   "mimetype": "text/x-python",
   "name": "python",
   "nbconvert_exporter": "python",
   "pygments_lexer": "ipython3",
   "version": "3.13.1"
  }
 },
 "nbformat": 4,
 "nbformat_minor": 2
}
