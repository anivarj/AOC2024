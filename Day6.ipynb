{
 "cells": [
  {
   "cell_type": "code",
   "execution_count": 28,
   "metadata": {},
   "outputs": [
    {
     "name": "stdout",
     "output_type": "stream",
     "text": [
      "The guard has left the board\n",
      "summing Xs\n",
      "4982\n"
     ]
    }
   ],
   "source": [
    "import pandas as pd\n",
    "import numpy as np\n",
    "\n",
    "puzzle = []\n",
    "with open('6-1.txt') as f:\n",
    "    for line in f:\n",
    "        puzzle.append(list(line.strip()))\n",
    "\n",
    "\n",
    "puzzle_array = pd.DataFrame(puzzle)\n",
    "\n",
    "# Replace all '.' characters with NaN\n",
    "puzzle_array = puzzle_array.replace('.', np.nan)\n",
    "\n",
    "\n",
    "movements = {\n",
    "    'up': [-1, 0],\n",
    "    'right': [0, 1],\n",
    "    'down': [1, 0],\n",
    "    'left': [0, -1]\n",
    "}\n",
    "\n",
    "\n",
    "def turn_right(current_direction):\n",
    "    directions = ['up', 'right', 'down', 'left']\n",
    "    return directions[(directions.index(current_direction) + 1) % 4]\n",
    "\n",
    "def get_current_position(puzzle_array):\n",
    "    # Get the current position of the '^' character\n",
    "    position = np.where(puzzle_array == '^')\n",
    "    return(position[0][0], position[1][0]) \n",
    "\n",
    "# Initialize the guard's position and direction\n",
    "current_position = get_current_position(puzzle_array)\n",
    "direction = 'up' \n",
    "\n",
    "on_board = True\n",
    "\n",
    "\n",
    "while on_board:\n",
    "\n",
    "    # Get the next position\n",
    "    move = movements[direction]\n",
    "    \n",
    "    next_position = [current_position[0] + move[0], current_position[1] + move[1]]\n",
    "\n",
    "    #print(\"next position:\", next_position)\n",
    "\n",
    "    # Check if the next position is out of bounds\n",
    "    if next_position[0] < 0 or next_position[1] < 0 or next_position[0] >= puzzle_array.shape[0] or next_position[1] >= puzzle_array.shape[1]:\n",
    "        print(\"The guard has left the board\")\n",
    "        on_board = False\n",
    "        break\n",
    "    \n",
    "    if puzzle_array.iloc[next_position[0], next_position[1]] == '#':\n",
    "        direction = turn_right(direction)\n",
    "        #print(\"changing direction to\", direction)\n",
    "    \n",
    "    else:\n",
    "        # Move the guard to the next position\n",
    "        #print('moving guard to next position', next_position)\n",
    "        puzzle_array.iloc[current_position[0], current_position[1]] = 'X'\n",
    "        puzzle_array.iloc[next_position[0], next_position[1]] = '^'\n",
    "        current_position = next_position\n",
    "\n",
    "# Mark the final position of the guard\n",
    "puzzle_array.iloc[current_position[0], current_position[1]] = 'X'\n",
    "\n",
    "# Count 'X' in the entire DataFrame\n",
    "print('summing Xs')\n",
    "total_x_count = puzzle_array.isin(['X']).sum().sum()\n",
    "\n",
    "print(total_x_count)\n",
    "\n",
    "\n",
    "\n"
   ]
  },
  {
   "cell_type": "code",
   "execution_count": null,
   "metadata": {},
   "outputs": [],
   "source": []
  }
 ],
 "metadata": {
  "kernelspec": {
   "display_name": "AOC2024",
   "language": "python",
   "name": "python3"
  },
  "language_info": {
   "codemirror_mode": {
    "name": "ipython",
    "version": 3
   },
   "file_extension": ".py",
   "mimetype": "text/x-python",
   "name": "python",
   "nbconvert_exporter": "python",
   "pygments_lexer": "ipython3",
   "version": "3.13.1"
  }
 },
 "nbformat": 4,
 "nbformat_minor": 2
}
